{
 "cells": [
  {
   "cell_type": "code",
   "execution_count": 1,
   "metadata": {
    "collapsed": true
   },
   "outputs": [],
   "source": [
    "import numpy as np\n",
    "import random\n",
    "from scipy import linalg as la"
   ]
  },
  {
   "cell_type": "code",
   "execution_count": 2,
   "metadata": {
    "collapsed": true
   },
   "outputs": [],
   "source": [
    "def sghmc(grad_log_den_data, grad_log_den_prior, data, V_hat, eps, theta_0, C, heatup, epoches, batch_size, Minv = None):\n",
    "    '''\n",
    "    Implementation of Stochastic Gradient Hamiltonian Monte Carlo.\n",
    "    (See details in Chen et al., 2014)\n",
    "    \n",
    "    Dimensions in sampling procdure:\n",
    "        p: dimension of parameters(theta)\n",
    "        n: number of observed data.\n",
    "        m: dimension of data.\n",
    "    \n",
    "    INPUT:            \n",
    "        grad_log_den_data: function with parameters (data,theta)\n",
    "            to compute $\\nabla log(p(data|theta))$ (gradient with respect to theta) of a set of data.\n",
    "            \n",
    "        grad_log_den_prior: function with parameter (theta)\n",
    "            to compute $\\nabla log(p(theta))$.\n",
    "            \n",
    "        data: np.array with shape (n,m)\n",
    "            representing observed data \n",
    "            \n",
    "        V_hat: np.array with shape (p,p)\n",
    "            a matrix of estimated Fisher Information \n",
    "            \n",
    "        eps: float or double\n",
    "            learning rate\n",
    "            \n",
    "        theta_0: np.array with shape (p,)\n",
    "            initial point of sampling.\n",
    "            \n",
    "        C: np.array with shape (p,p)\n",
    "            a matrix representing friction, see paper for details. \n",
    "            C-0.5*eps*V_hat must be positive definite.\n",
    "            \n",
    "        heatup: int\n",
    "            iteration to dump before storing sampling points.\n",
    "            \n",
    "        epoches: int\n",
    "            iterations to run. Must be greater than heatup.\n",
    "        \n",
    "        batch_size: int\n",
    "            size of a minibatch in an iteration, hundreds recommended\n",
    "            \n",
    "        Minv: np.array with shape (p,p)\n",
    "            if default(NULL), will be identical. (See paper for details)\n",
    "            \n",
    "    OUT:\n",
    "        sample: np.array with shape (epoches - heatup, p)\n",
    "            sampled posterior thetas.\n",
    "    '''\n",
    "    \n",
    "    def gradU(grad_log_den_data, grad_log_den_prior, batch, theta, n):\n",
    "        '''\n",
    "        inner function to compute $\\nabla \\tilde{U}$ defined in paper.\n",
    "        '''\n",
    "        return(-(n*grad_log_den_data(batch,theta)/batch.shape[0]+grad_log_den_prior(theta)))\n",
    "    \n",
    "    \n",
    "    n,m = data.shape\n",
    "    p = theta_0.shape[0]\n",
    "    \n",
    "    if(Minv is None):\n",
    "        sqrtM = np.eye(p)\n",
    "        prer = eps\n",
    "        fric = eps*C\n",
    "    else:\n",
    "        sqrtM = la.sqrtm(la.inv(Minv))\n",
    "        prer = eps*Minv\n",
    "        fric = eps*C@Minv\n",
    "\n",
    "    sqrt_noise = la.sqrtm(2*(C-0.5*eps*V_hat)*eps)\n",
    "    \n",
    "    samples = np.zeros((epoches - heatup, p))\n",
    "    batches = np.int(np.ceil(n/batch_size))\n",
    "    \n",
    "    theta = theta_0\n",
    "    for t in range(epoches):\n",
    "        if(Minv is None):\n",
    "            r = np.random.normal(size=(p))\n",
    "        else:\n",
    "            r = sqrtM@np.random.normal(size=(p))\n",
    "        \n",
    "        split = np.split(data,batches)\n",
    "        for i in range(batches):\n",
    "            batch = split[i]\n",
    "            theta = theta + (prer*r if Minv is None else prer@r)\n",
    "            gU = gradU(grad_log_den_data,grad_log_den_prior,batch,theta,n)\n",
    "            r = r - eps*gU - fric@r + sqrt_noise@np.random.normal(size=(p))\n",
    "        theta = theta + (prer*r if Minv is None else prer@r)\n",
    "        \n",
    "        if(t>=heatup):\n",
    "            samples[t-heatup] = theta\n",
    "    \n",
    "    return(samples)\n"
   ]
  },
  {
   "cell_type": "code",
   "execution_count": 3,
   "metadata": {
    "collapsed": true
   },
   "outputs": [],
   "source": [
    "def sghmc_jit(grad_log_den_data, grad_log_den_prior, data, V_hat, eps, theta_0, C, heatup, epoches, batch_size, Minv = None):\n",
    "    '''\n",
    "    Implementation of Stochastic Gradient Hamiltonian Monte Carlo.\n",
    "    (See details in Chen et al., 2014)\n",
    "    \n",
    "    Dimensions in sampling procdure:\n",
    "        p: dimension of parameters(theta)\n",
    "        n: number of observed data.\n",
    "        m: dimension of data.\n",
    "    \n",
    "    INPUT:            \n",
    "        grad_log_den_data: function with parameters (data,theta)\n",
    "            to compute $\\nabla log(p(data|theta))$ (gradient with respect to theta) of a set of data.\n",
    "            \n",
    "        grad_log_den_prior: function with parameter (theta)\n",
    "            to compute $\\nabla log(p(theta))$.\n",
    "            \n",
    "        data: np.array with shape (n,m)\n",
    "            representing observed data \n",
    "            \n",
    "        V_hat: np.array with shape (p,p)\n",
    "            a matrix of estimated Fisher Information \n",
    "            \n",
    "        eps: float or double\n",
    "            learning rate\n",
    "            \n",
    "        theta_0: np.array with shape (p,)\n",
    "            initial point of sampling.\n",
    "            \n",
    "        C: np.array with shape (p,p)\n",
    "            a matrix representing friction, see paper for details. \n",
    "            C-0.5*eps*V_hat must be positive definite.\n",
    "            \n",
    "        heatup: int\n",
    "            iteration to dump before storing sampling points.\n",
    "            \n",
    "        epoches: int\n",
    "            iterations to run. Must be greater than heatup.\n",
    "        \n",
    "        batch_size: int\n",
    "            size of a minibatch in an iteration, hundreds recommended\n",
    "            \n",
    "        Minv: np.array with shape (p,p)\n",
    "            if default(NULL), will be identical. (See paper for details)\n",
    "            \n",
    "    OUT:\n",
    "        sample: np.array with shape (epoches - heatup, p)\n",
    "            sampled posterior thetas.\n",
    "    '''\n",
    "    \n",
    "    def gradU(grad_log_den_data, grad_log_den_prior, batch, theta, n):\n",
    "        '''\n",
    "        inner function to compute $\\nabla \\tilde{U}$ defined in paper.\n",
    "        '''\n",
    "        return(-(n*grad_log_den_data(batch,theta)/batch.shape[0]+grad_log_den_prior(theta)))\n",
    "\n",
    "    n,m = data.shape\n",
    "    p = theta_0.shape[0]\n",
    "    \n",
    "    if(Minv is None):\n",
    "        sqrtM = np.eye(p)\n",
    "        prer = eps\n",
    "        fric = eps*C\n",
    "    else:\n",
    "        sqrtM = la.sqrtm(la.inv(Minv))\n",
    "        prer = eps*Minv\n",
    "        fric = eps*C@Minv\n",
    "\n",
    "    sqrt_noise = la.sqrtm(2*(C-0.5*eps*V_hat)*eps)\n",
    "    \n",
    "    samples = np.zeros((epoches - heatup, p))\n",
    "    batches = np.int(np.ceil(n/batch_size))\n",
    "    \n",
    "    theta = theta_0\n",
    "    for t in range(epoches):\n",
    "        if(Minv is None):\n",
    "            r = np.random.normal(size=(p))\n",
    "        else:\n",
    "            r = sqrtM@np.random.normal(size=(p))\n",
    "        \n",
    "        split = np.split(data,batches)\n",
    "        for i in range(batches):\n",
    "            batch = split[i]\n",
    "            theta = theta + (prer*r if Minv is None else prer@r)\n",
    "            gU = gradU(grad_log_den_data,grad_log_den_prior,batch,theta,n)\n",
    "            r = r - eps*gU - fric@r + sqrt_noise@np.random.normal(size=(p))\n",
    "        theta = theta + (prer*r if Minv is None else prer@r)\n",
    "        \n",
    "        if(t>=heatup):\n",
    "            samples[t-heatup] = theta\n",
    "    \n",
    "    return(samples)\n"
   ]
  },
  {
   "cell_type": "code",
   "execution_count": 4,
   "metadata": {},
   "outputs": [
    {
     "name": "stdout",
     "output_type": "stream",
     "text": [
      "Overwriting cppfuncs.cpp\n"
     ]
    }
   ],
   "source": [
    "%%file cppfuncs.cpp\n",
    "<%\n",
    "cfg['include_dirs'] = ['eigen']\n",
    "setup_pybind11(cfg)\n",
    "%>\n",
    "#include <pybind11/pybind11.h>\n",
    "#include <pybind11/stl.h>\n",
    "#include <pybind11/eigen.h>\n",
    "#include <vector>\n",
    "#include <random>\n",
    "#include <Eigen/Dense>\n",
    "#include <functional>\n",
    "\n",
    "namespace py = pybind11;\n",
    "using std::default_random_engine;\n",
    "using std::normal_distribution;\n",
    "using std::bind;\n",
    "using namespace Eigen;\n",
    "    \n",
    "//#@jit('double[:](double[:],double[:],double,double[:,:],double[:,:],int32)')\n",
    "//#def update_r(r,gU,eps,fric,sqrt_noise,p):\n",
    "//#    return r - eps*gU - fric@r + sqrt_noise@np.random.normal(size=(p))\n",
    "\n",
    "default_random_engine re{};\n",
    "normal_distribution<double> norm(0,1);\n",
    "auto rnorm = bind(norm, re);\n",
    "\n",
    "VectorXd update_r(VectorXd r, VectorXd gU,double eps,MatrixXd fric,MatrixXd sqrt_noise){\n",
    "    int p = r.rows();\n",
    "    VectorXd noise = VectorXd::Zero(p).unaryExpr([](double x){ return rnorm();});\n",
    "    return r.array() - eps*gU.array() - (fric*r).array() + (sqrt_noise*noise).array();\n",
    "}\n",
    "\n",
    "PYBIND11_MODULE(cppfuncs, m) {\n",
    "    m.def(\"update_r\", &update_r);\n",
    "}"
   ]
  },
  {
   "cell_type": "code",
   "execution_count": 5,
   "metadata": {
    "collapsed": true
   },
   "outputs": [],
   "source": [
    "import numpy as np\n",
    "from scipy import linalg as la\n",
    "import cppimport\n",
    "cppfuncs = cppimport.imp(\"cppfuncs\")\n",
    "\n",
    "def sghmc_cpp(grad_log_den_data, grad_log_den_prior, data, V_hat, eps, theta_0, C, heatup, epoches, batch_size, Minv = None):\n",
    "    '''\n",
    "    Implementation of Stochastic Gradient Hamiltonian Monte Carlo.\n",
    "    (See details in Chen et al., 2014)\n",
    "    \n",
    "    Dimensions in sampling procdure:\n",
    "        p: dimension of parameters(theta)\n",
    "        n: number of observed data.\n",
    "        m: dimension of data.\n",
    "    \n",
    "    INPUT:            \n",
    "        grad_log_den_data: function with parameters (data,theta)\n",
    "            to compute $\\nabla log(p(data|theta))$ (gradient with respect to theta) of a set of data.\n",
    "            \n",
    "        grad_log_den_prior: function with parameter (theta)\n",
    "            to compute $\\nabla log(p(theta))$.\n",
    "            \n",
    "        data: np.array with shape (n,m)\n",
    "            representing observed data \n",
    "            \n",
    "        V_hat: np.array with shape (p,p)\n",
    "            a matrix of estimated Fisher Information \n",
    "            \n",
    "        eps: float or double\n",
    "            learning rate\n",
    "            \n",
    "        theta_0: np.array with shape (p,)\n",
    "            initial point of sampling.\n",
    "            \n",
    "        C: np.array with shape (p,p)\n",
    "            a matrix representing friction, see paper for details. \n",
    "            C-0.5*eps*V_hat must be positive definite.\n",
    "            \n",
    "        heatup: int\n",
    "            iteration to dump before storing sampling points.\n",
    "            \n",
    "        epoches: int\n",
    "            iterations to run. Must be greater than heatup.\n",
    "        \n",
    "        batch_size: int\n",
    "            size of a minibatch in an iteration, hundreds recommended\n",
    "            \n",
    "        Minv: np.array with shape (p,p)\n",
    "            if default(NULL), will be identical. (See paper for details)\n",
    "            \n",
    "    OUT:\n",
    "        sample: np.array with shape (epoches - heatup, p)\n",
    "            sampled posterior thetas.\n",
    "    '''\n",
    "    \n",
    "    def gradU(grad_log_den_data, grad_log_den_prior, batch, theta, n):\n",
    "        '''\n",
    "        inner function to compute $\\nabla \\tilde{U}$ defined in paper.\n",
    "        '''\n",
    "        return(-(n*grad_log_den_data(batch,theta)/batch.shape[0]+grad_log_den_prior(theta)))\n",
    "\n",
    "    n,m = data.shape\n",
    "    p = theta_0.shape[0]\n",
    "    \n",
    "    if(Minv is None):\n",
    "        sqrtM = np.eye(p)\n",
    "        prer = eps\n",
    "        fric = eps*C\n",
    "    else:\n",
    "        sqrtM = la.sqrtm(la.inv(Minv))\n",
    "        prer = eps*Minv\n",
    "        fric = eps*C@Minv\n",
    "\n",
    "    sqrt_noise = la.sqrtm(2*(C-0.5*eps*V_hat)*eps)\n",
    "    \n",
    "    samples = np.zeros((epoches - heatup, p))\n",
    "    batches = np.int(np.ceil(n/batch_size))\n",
    "    \n",
    "    theta = theta_0\n",
    "    for t in range(epoches):\n",
    "        if(Minv is None):\n",
    "            r = np.random.normal(size=(p))\n",
    "        else:\n",
    "            r = sqrtM@np.random.normal(size=(p))\n",
    "        \n",
    "        split = np.split(data,batches)\n",
    "        for i in range(batches):\n",
    "            batch = split[i]\n",
    "            theta = theta + (prer*r if Minv is None else prer@r)\n",
    "            gU = gradU(grad_log_den_data,grad_log_den_prior,batch,theta,n)\n",
    "            r = cppfuncs.update_r(r,gU,eps,fric,sqrt_noise)\n",
    "        theta = theta + (prer*r if Minv is None else prer@r)\n",
    "        \n",
    "        if(t>=heatup):\n",
    "            samples[t-heatup] = theta\n",
    "    \n",
    "    return(samples)\n"
   ]
  },
  {
   "cell_type": "code",
   "execution_count": 6,
   "metadata": {
    "collapsed": true
   },
   "outputs": [],
   "source": [
    "import numpy as np\n",
    "from scipy import linalg as la\n",
    "import cppimport\n",
    "cppfuncs = cppimport.imp(\"cppfuncs\")\n",
    "\n",
    "def sghmc_cpp_noM(grad_log_den_data, grad_log_den_prior, data, V_hat, eps, theta_0, C, heatup, epoches, batch_size):\n",
    "    '''\n",
    "    Implementation of Stochastic Gradient Hamiltonian Monte Carlo.\n",
    "    (See details in Chen et al., 2014)\n",
    "    \n",
    "    Dimensions in sampling procdure:\n",
    "        p: dimension of parameters(theta)\n",
    "        n: number of observed data.\n",
    "        m: dimension of data.\n",
    "    \n",
    "    INPUT:            \n",
    "        grad_log_den_data: function with parameters (data,theta)\n",
    "            to compute $\\nabla log(p(data|theta))$ (gradient with respect to theta) of a set of data.\n",
    "            \n",
    "        grad_log_den_prior: function with parameter (theta)\n",
    "            to compute $\\nabla log(p(theta))$.\n",
    "            \n",
    "        data: np.array with shape (n,m)\n",
    "            representing observed data \n",
    "            \n",
    "        V_hat: np.array with shape (p,p)\n",
    "            a matrix of estimated Fisher Information \n",
    "            \n",
    "        eps: float or double\n",
    "            learning rate\n",
    "            \n",
    "        theta_0: np.array with shape (p,)\n",
    "            initial point of sampling.\n",
    "            \n",
    "        C: np.array with shape (p,p)\n",
    "            a matrix representing friction, see paper for details. \n",
    "            C-0.5*eps*V_hat must be positive definite.\n",
    "            \n",
    "        heatup: int\n",
    "            iteration to dump before storing sampling points.\n",
    "            \n",
    "        epoches: int\n",
    "            iterations to run. Must be greater than heatup.\n",
    "        \n",
    "        batch_size: int\n",
    "            size of a minibatch in an iteration, hundreds recommended\n",
    "            \n",
    "        Minv: np.array with shape (p,p)\n",
    "            if default(NULL), will be identical. (See paper for details)\n",
    "            \n",
    "    OUT:\n",
    "        sample: np.array with shape (epoches - heatup, p)\n",
    "            sampled posterior thetas.\n",
    "    '''\n",
    "    \n",
    "    def gradU(grad_log_den_data, grad_log_den_prior, batch, theta, n):\n",
    "        '''\n",
    "        inner function to compute $\\nabla \\tilde{U}$ defined in paper.\n",
    "        '''\n",
    "        return(-(n*grad_log_den_data(batch,theta)/batch.shape[0]+grad_log_den_prior(theta)))\n",
    "\n",
    "    n,m = data.shape\n",
    "    p = theta_0.shape[0]\n",
    "\n",
    "    fric = eps*C\n",
    "\n",
    "    sqrt_noise = la.sqrtm(2*(C-0.5*eps*V_hat)*eps)\n",
    "    \n",
    "    samples = np.zeros((epoches - heatup, p))\n",
    "    batches = np.int(np.ceil(n/batch_size))\n",
    "    \n",
    "    theta = theta_0\n",
    "    for t in range(epoches):\n",
    "        r = np.random.normal(size=(p))\n",
    "        \n",
    "        split = np.split(data,batches)\n",
    "        for i in range(batches):\n",
    "            batch = split[i]\n",
    "            theta = theta + eps*r\n",
    "            gU = gradU(grad_log_den_data,grad_log_den_prior,batch,theta,n)\n",
    "            r = cppfuncs.update_r(r,gU,eps,fric,sqrt_noise)\n",
    "        theta = theta + eps*r\n",
    "        \n",
    "        if(t>=heatup):\n",
    "            samples[t-heatup] = theta\n",
    "    \n",
    "    return(samples)\n"
   ]
  },
  {
   "cell_type": "markdown",
   "metadata": {},
   "source": [
    "## cpp opt"
   ]
  },
  {
   "cell_type": "code",
   "execution_count": 33,
   "metadata": {
    "collapsed": true
   },
   "outputs": [],
   "source": [
    "data = np.array(list(range(100)))+2*np.random.normal(size=(10000,100))\n",
    "V_hat=np.eye(100)\n",
    "eps=0.01\n",
    "theta_0=np.zeros(100)\n",
    "C=np.eye(100)\n",
    "heatup=100\n",
    "epoches=200\n",
    "batch_size=500\n",
    "\n",
    "def gradU(grad_log_den_data, grad_log_den_prior, batch, theta, n):\n",
    "        '''\n",
    "        inner function to compute $\\nabla \\tilde{U}$ defined in paper.\n",
    "        '''\n",
    "        return(-(n*grad_log_den_data(batch,theta)/batch.shape[0]+grad_log_den_prior(theta)))\n",
    "\n",
    "n,m = data.shape\n",
    "p = theta_0.shape[0]\n",
    "\n",
    "fric = eps*C\n",
    "\n",
    "sqrt_noise = la.sqrtm(2*(C-0.5*eps*V_hat)*eps)\n",
    "\n",
    "samples = np.zeros((epoches - heatup, p))\n",
    "batches = np.int(np.ceil(n/batch_size))\n",
    "\n",
    "theta = theta_0"
   ]
  },
  {
   "cell_type": "code",
   "execution_count": 34,
   "metadata": {
    "collapsed": true
   },
   "outputs": [],
   "source": [
    "r = np.random.normal(size=(p))\n",
    "        \n",
    "split = np.split(data,batches)\n",
    "for i in range(batches):\n",
    "    batch = split[i]\n",
    "    theta = theta + eps*r\n",
    "    gU = gradU(grad_log_den_data,grad_log_den_prior,batch,theta,n)\n",
    "    r = cppfuncs.update_r(r,gU,eps,fric,sqrt_noise)\n",
    "theta = theta + eps*r"
   ]
  },
  {
   "cell_type": "code",
   "execution_count": 35,
   "metadata": {},
   "outputs": [
    {
     "name": "stdout",
     "output_type": "stream",
     "text": [
      "6.81 µs ± 29.8 ns per loop (mean ± std. dev. of 7 runs, 100000 loops each)\n",
      "35.3 µs ± 548 ns per loop (mean ± std. dev. of 7 runs, 10000 loops each)\n",
      "1.09 µs ± 4.67 ns per loop (mean ± std. dev. of 7 runs, 1000000 loops each)\n",
      "89.7 µs ± 289 ns per loop (mean ± std. dev. of 7 runs, 10000 loops each)\n",
      "29.3 µs ± 98.5 ns per loop (mean ± std. dev. of 7 runs, 10000 loops each)\n"
     ]
    }
   ],
   "source": [
    "%timeit np.random.normal(size=(p))\n",
    "%timeit np.split(data,batches)\n",
    "%timeit theta + eps*r\n",
    "%timeit gradU(grad_log_den_data,grad_log_den_prior,batch,theta,n)\n",
    "%timeit cppfuncs.update_r(r,gU,eps,fric,sqrt_noise)"
   ]
  },
  {
   "cell_type": "code",
   "execution_count": 37,
   "metadata": {},
   "outputs": [
    {
     "name": "stdout",
     "output_type": "stream",
     "text": [
      "80 µs ± 507 ns per loop (mean ± std. dev. of 7 runs, 10000 loops each)\n"
     ]
    }
   ],
   "source": [
    "%timeit gradU(grad_log_den_data_jit,grad_log_den_prior_jit,batch,theta,n)"
   ]
  },
  {
   "cell_type": "code",
   "execution_count": 38,
   "metadata": {},
   "outputs": [
    {
     "name": "stdout",
     "output_type": "stream",
     "text": [
      "22.7 µs ± 814 ns per loop (mean ± std. dev. of 7 runs, 10000 loops each)\n"
     ]
    }
   ],
   "source": [
    "%timeit r - eps*gU - fric@r + sqrt_noise@np.random.normal(size=(p))"
   ]
  },
  {
   "cell_type": "markdown",
   "metadata": {},
   "source": [
    "## time"
   ]
  },
  {
   "cell_type": "code",
   "execution_count": 76,
   "metadata": {
    "collapsed": true
   },
   "outputs": [],
   "source": [
    "def grad_log_den_data(data,theta):\n",
    "    return(np.sum(data-theta,axis=0))\n",
    "\n",
    "def grad_log_den_prior(theta):\n",
    "    return(-theta)\n",
    "\n",
    "import numba\n",
    "from numba import jit\n",
    "@jit('double[:](double[:,:],double[:])')\n",
    "def grad_log_den_data_jit(data,theta):\n",
    "    return(np.sum(data-theta,axis=0))\n",
    "\n",
    "@jit('double[:](double[:])')\n",
    "def grad_log_den_prior_jit(theta):\n",
    "    return(-theta)\n",
    "\n",
    "dnorm=1000\n",
    "data = np.array(list(range(dnorm)))+2*np.random.normal(size=(10000,dnorm))\n",
    "V_hat=np.eye(dnorm)\n",
    "eps=0.01\n",
    "theta_0=np.zeros(dnorm)\n",
    "C=np.eye(dnorm)\n",
    "heatup=100\n",
    "epoches=200\n",
    "batch_size=500"
   ]
  },
  {
   "cell_type": "code",
   "execution_count": 8,
   "metadata": {},
   "outputs": [
    {
     "name": "stdout",
     "output_type": "stream",
     "text": [
      "5.01 s ± 62 ms per loop (mean ± std. dev. of 7 runs, 1 loop each)\n",
      "3.89 s ± 52.9 ms per loop (mean ± std. dev. of 7 runs, 1 loop each)\n",
      "19.1 s ± 107 ms per loop (mean ± std. dev. of 7 runs, 1 loop each)\n"
     ]
    }
   ],
   "source": [
    "%timeit sghmc(grad_log_den_data, grad_log_den_prior, data, V_hat, eps, theta_0, C, heatup, epoches, batch_size, Minv = None)\n",
    "%timeit sghmc_jit(grad_log_den_data_jit, grad_log_den_prior_jit, data, V_hat, eps, theta_0, C, heatup, epoches, batch_size, Minv = None)\n",
    "%timeit sghmc_cpp(grad_log_den_data_jit, grad_log_den_prior_jit, data, V_hat, eps, theta_0, C, heatup, epoches, batch_size, Minv = None)"
   ]
  },
  {
   "cell_type": "code",
   "execution_count": 30,
   "metadata": {},
   "outputs": [
    {
     "name": "stdout",
     "output_type": "stream",
     "text": [
      "492 ms ± 4.29 ms per loop (mean ± std. dev. of 7 runs, 1 loop each)\n"
     ]
    }
   ],
   "source": [
    "%timeit sghmc_cpp_noM(grad_log_den_data_jit, grad_log_den_prior_jit, data, V_hat, eps, theta_0, C, heatup, epoches, batch_size)"
   ]
  },
  {
   "cell_type": "code",
   "execution_count": 27,
   "metadata": {},
   "outputs": [
    {
     "data": {
      "text/plain": [
       "array([[-0.15807424,  1.01034599,  1.83609643, ..., 97.05898675,\n",
       "        98.04735348, 98.97711129],\n",
       "       [-0.18926992,  0.99169964,  1.88192535, ..., 96.93019707,\n",
       "        97.9011416 , 98.88606449],\n",
       "       [-0.1530833 ,  1.01816102,  1.83819022, ..., 97.03696292,\n",
       "        98.0415609 , 98.97156504],\n",
       "       ...,\n",
       "       [-0.17963601,  1.01113095,  1.87209616, ..., 96.95619933,\n",
       "        97.98494918, 98.93137916],\n",
       "       [-0.16956746,  0.987409  ,  1.84164769, ..., 97.01577784,\n",
       "        97.97021751, 98.93303963],\n",
       "       [-0.17911804,  1.01706299,  1.8731486 , ..., 96.96036453,\n",
       "        97.98539675, 98.93018898]])"
      ]
     },
     "execution_count": 27,
     "metadata": {},
     "output_type": "execute_result"
    }
   ],
   "source": [
    "sghmc(grad_log_den_data, grad_log_den_prior, data, V_hat, eps, theta_0, C, heatup, epoches, batch_size, Minv = None)"
   ]
  },
  {
   "cell_type": "code",
   "execution_count": null,
   "metadata": {
    "collapsed": true
   },
   "outputs": [],
   "source": [
    "sghmc(grad_log_den_data, grad_log_den_prior, data, V_hat, eps, theta_0, C, heatup, epoches, batch_size, Minv = np.eye(2))"
   ]
  },
  {
   "cell_type": "code",
   "execution_count": null,
   "metadata": {
    "collapsed": true
   },
   "outputs": [],
   "source": [
    "from matplotlib import pyplot as plt"
   ]
  },
  {
   "cell_type": "code",
   "execution_count": null,
   "metadata": {
    "collapsed": true
   },
   "outputs": [],
   "source": [
    "sample=sghmc(grad_log_den_data, grad_log_den_prior, data, V_hat, eps, theta_0, C, heatup, epoches, batch_size, Minv = np.eye(2))\n",
    "plt.figure(figsize=(5,5))\n",
    "plt.scatter(*sample.T)\n",
    "plt.show()"
   ]
  },
  {
   "cell_type": "markdown",
   "metadata": {},
   "source": [
    "# MultiProcess"
   ]
  },
  {
   "cell_type": "code",
   "execution_count": 79,
   "metadata": {
    "collapsed": true
   },
   "outputs": [],
   "source": [
    "from concurrent.futures import ThreadPoolExecutor, ProcessPoolExecutor"
   ]
  },
  {
   "cell_type": "code",
   "execution_count": 80,
   "metadata": {
    "collapsed": true
   },
   "outputs": [],
   "source": [
    "def sghmc_chains(grad_log_den_data, grad_log_den_prior, data, V_hat, eps, theta_0, C, heatup, epoches, batch_size, chain = 1, Minv = None):\n",
    "    '''\n",
    "    Implementation of Stochastic Gradient Hamiltonian Monte Carlo.\n",
    "    (See details in Chen et al., 2014)\n",
    "    \n",
    "    Dimensions in sampling procdure:\n",
    "        p: dimension of parameters(theta)\n",
    "        n: number of observed data.\n",
    "        m: dimension of data.\n",
    "    \n",
    "    INPUT:            \n",
    "        grad_log_den_data: function with parameters (data,theta)\n",
    "            to compute $\\nabla log(p(data|theta))$ (gradient with respect to theta) of a set of data.\n",
    "            \n",
    "        grad_log_den_prior: function with parameter (theta)\n",
    "            to compute $\\nabla log(p(theta))$.\n",
    "            \n",
    "        data: np.array with shape (n,m)\n",
    "            representing observed data \n",
    "            \n",
    "        V_hat: np.array with shape (p,p)\n",
    "            a matrix of estimated Fisher Information \n",
    "            \n",
    "        eps: float or double\n",
    "            learning rate\n",
    "            \n",
    "        theta_0: np.array with shape (p,)\n",
    "            initial point of sampling.\n",
    "            \n",
    "        C: np.array with shape (p,p)\n",
    "            a matrix representing friction, see paper for details. \n",
    "            C-0.5*eps*V_hat must be positive definite.\n",
    "            \n",
    "        heatup: int\n",
    "            iteration to dump before storing sampling points.\n",
    "            \n",
    "        epoches: int\n",
    "            iterations to run. Must be greater than heatup.\n",
    "        \n",
    "        batch_size: int\n",
    "            size of a minibatch in an iteration, hundreds recommended\n",
    "            \n",
    "        Minv: np.array with shape (p,p)\n",
    "            if default(NULL), will be identical. (See paper for details)\n",
    "            \n",
    "    OUT:\n",
    "        sample: np.array with shape (epoches - heatup, p)\n",
    "            sampled posterior thetas.\n",
    "    '''\n",
    "    \n",
    "    def gradU(grad_log_den_data, grad_log_den_prior, batch, theta, n):\n",
    "        '''\n",
    "        inner function to compute $\\nabla \\tilde{U}$ defined in paper.\n",
    "        '''\n",
    "        return(-(n*grad_log_den_data(batch,theta)/batch.shape[0]+grad_log_den_prior(theta)))\n",
    "\n",
    "    n,m = data.shape\n",
    "    p = theta_0.shape[0]\n",
    "    \n",
    "    if(Minv is None):\n",
    "        sqrtM = np.eye(p)\n",
    "        prer = eps\n",
    "        fric = eps*C\n",
    "    else:\n",
    "        sqrtM = la.sqrtm(la.inv(Minv))\n",
    "        prer = eps*Minv\n",
    "        fric = eps*C@Minv\n",
    "\n",
    "    sqrt_noise = la.sqrtm(2*(C-0.5*eps*V_hat)*eps)\n",
    "    \n",
    "    batches = np.int(np.ceil(n/batch_size))\n",
    "    \n",
    "    #ProcessPoolExecutor \n",
    "    def single_chain():\n",
    "        theta = theta_0\n",
    "        samples = np.zeros((epoches - heatup, p))\n",
    "        for t in range(epoches):\n",
    "            if(Minv is None):\n",
    "                r = np.random.normal(size=(p))\n",
    "            else:\n",
    "                r = sqrtM@np.random.normal(size=(p))\n",
    "\n",
    "            split = np.split(data,batches)\n",
    "            for i in range(batches):\n",
    "                batch = split[i]\n",
    "                theta = theta + (prer*r if Minv is None else prer@r)\n",
    "                gU = gradU(grad_log_den_data,grad_log_den_prior,batch,theta,n)\n",
    "                r = r - eps*gU - fric@r + sqrt_noise@np.random.normal(size=(p))\n",
    "            theta = theta + (prer*r if Minv is None else prer@r)\n",
    "\n",
    "            if(t>=heatup):\n",
    "                samples[t-heatup] = theta\n",
    "        \n",
    "        return(samples)\n",
    "    \n",
    "    with ProcessPoolExecutor(max_workers=chain) as pool:\n",
    "        res = pool.map(single_chain)\n",
    "    \n",
    "    return(list(res))\n"
   ]
  },
  {
   "cell_type": "code",
   "execution_count": null,
   "metadata": {
    "collapsed": true
   },
   "outputs": [],
   "source": [
    "def grad_log_den_data(data,theta):\n",
    "    return(np.sum(data-theta,axis=0))\n",
    "\n",
    "def grad_log_den_prior(theta):\n",
    "    return(-theta)\n",
    "\n",
    "import numba\n",
    "from numba import jit\n",
    "@jit('double[:](double[:,:],double[:])')\n",
    "def grad_log_den_data_jit(data,theta):\n",
    "    return(np.sum(data-theta,axis=0))\n",
    "\n",
    "@jit('double[:](double[:])')\n",
    "def grad_log_den_prior_jit(theta):\n",
    "    return(-theta)"
   ]
  },
  {
   "cell_type": "code",
   "execution_count": 92,
   "metadata": {},
   "outputs": [
    {
     "data": {
      "text/plain": [
       "[]"
      ]
     },
     "execution_count": 92,
     "metadata": {},
     "output_type": "execute_result"
    }
   ],
   "source": [
    "dnorm=10\n",
    "data = np.array(list(range(dnorm)))+2*np.random.normal(size=(100,dnorm))\n",
    "V_hat=np.eye(dnorm)\n",
    "eps=0.01\n",
    "theta_0=np.zeros(dnorm)\n",
    "C=np.eye(dnorm)\n",
    "heatup=100\n",
    "epoches=200\n",
    "batch_size=20\n",
    "chain=2\n",
    "\n",
    "def gradU(grad_log_den_data, grad_log_den_prior, batch, theta, n):\n",
    "    '''\n",
    "    inner function to compute $\\nabla \\tilde{U}$ defined in paper.\n",
    "    '''\n",
    "    return(-(n*grad_log_den_data(batch,theta)/batch.shape[0]+grad_log_den_prior(theta)))\n",
    "\n",
    "n,m = data.shape\n",
    "p = theta_0.shape[0]\n",
    "\n",
    "prer = eps\n",
    "fric = eps*C\n",
    "\n",
    "sqrt_noise = la.sqrtm(2*(C-0.5*eps*V_hat)*eps)\n",
    "\n",
    "batches = np.int(np.ceil(n/batch_size))\n",
    "\n",
    "#ProcessPoolExecutor \n",
    "def single_chain():\n",
    "    theta = theta_0\n",
    "    samples = np.zeros((epoches - heatup, p))\n",
    "    for t in range(epoches):\n",
    "        r = np.random.normal(size=(p))\n",
    "\n",
    "        split = np.split(data,batches)\n",
    "        for i in range(batches):\n",
    "            batch = split[i]\n",
    "            theta = theta + prer*r\n",
    "            gU = gradU(grad_log_den_data,grad_log_den_prior,batch,theta,n)\n",
    "            r = r - eps*gU - fric@r + sqrt_noise@np.random.normal(size=(p))\n",
    "        theta = theta + prer*r\n",
    "\n",
    "        if(t>=heatup):\n",
    "            samples[t-heatup] = theta\n",
    "\n",
    "    return(samples)\n",
    "\n",
    "with ProcessPoolExecutor(max_workers=chain) as pool:\n",
    "    res = pool.map(single_chain)\n",
    "    \n",
    "list(res)"
   ]
  },
  {
   "cell_type": "code",
   "execution_count": 106,
   "metadata": {
    "collapsed": true
   },
   "outputs": [],
   "source": [
    "with ProcessPoolExecutor(max_workers=2) as pool:\n",
    "    res = pool.map(single_chain,[])"
   ]
  },
  {
   "cell_type": "code",
   "execution_count": 110,
   "metadata": {},
   "outputs": [
    {
     "data": {
      "text/plain": [
       "[]"
      ]
     },
     "execution_count": 110,
     "metadata": {},
     "output_type": "execute_result"
    }
   ],
   "source": [
    "p=10\n",
    "def f_():\n",
    "    r = 1\n",
    "    return(r)\n",
    "\n",
    "with ProcessPoolExecutor(max_workers=2) as pool:\n",
    "    res = pool.map(f_,[])\n",
    "    \n",
    "list(res)"
   ]
  },
  {
   "cell_type": "code",
   "execution_count": 119,
   "metadata": {},
   "outputs": [],
   "source": [
    "import math\n",
    "def func_compute_intesnive(n):\n",
    "    s = 0\n",
    "    for i in range(1, n+1):\n",
    "        s += math.exp(math.log(math.sqrt(math.pow(i, 2.0))))\n",
    "    return s\n",
    "\n",
    "n=10\n",
    "\n",
    "with ProcessPoolExecutor(max_workers=4) as pool:\n",
    "    ans = pool.map(func_compute_intesnive, [n,n,n,n])"
   ]
  },
  {
   "cell_type": "code",
   "execution_count": 120,
   "metadata": {},
   "outputs": [
    {
     "ename": "BrokenProcessPool",
     "evalue": "A process in the process pool was terminated abruptly while the future was running or pending.",
     "output_type": "error",
     "traceback": [
      "\u001b[1;31m---------------------------------------------------------------------------\u001b[0m",
      "\u001b[1;31mBrokenProcessPool\u001b[0m                         Traceback (most recent call last)",
      "\u001b[1;32m<ipython-input-120-b33fe393ae7b>\u001b[0m in \u001b[0;36m<module>\u001b[1;34m()\u001b[0m\n\u001b[1;32m----> 1\u001b[1;33m \u001b[0mlist\u001b[0m\u001b[1;33m(\u001b[0m\u001b[0mans\u001b[0m\u001b[1;33m)\u001b[0m\u001b[1;33m\u001b[0m\u001b[0m\n\u001b[0m",
      "\u001b[1;32m~\\Anaconda3\\lib\\concurrent\\futures\\_base.py\u001b[0m in \u001b[0;36mresult_iterator\u001b[1;34m()\u001b[0m\n\u001b[0;32m    554\u001b[0m                 \u001b[1;32mfor\u001b[0m \u001b[0mfuture\u001b[0m \u001b[1;32min\u001b[0m \u001b[0mfs\u001b[0m\u001b[1;33m:\u001b[0m\u001b[1;33m\u001b[0m\u001b[0m\n\u001b[0;32m    555\u001b[0m                     \u001b[1;32mif\u001b[0m \u001b[0mtimeout\u001b[0m \u001b[1;32mis\u001b[0m \u001b[1;32mNone\u001b[0m\u001b[1;33m:\u001b[0m\u001b[1;33m\u001b[0m\u001b[0m\n\u001b[1;32m--> 556\u001b[1;33m                         \u001b[1;32myield\u001b[0m \u001b[0mfuture\u001b[0m\u001b[1;33m.\u001b[0m\u001b[0mresult\u001b[0m\u001b[1;33m(\u001b[0m\u001b[1;33m)\u001b[0m\u001b[1;33m\u001b[0m\u001b[0m\n\u001b[0m\u001b[0;32m    557\u001b[0m                     \u001b[1;32melse\u001b[0m\u001b[1;33m:\u001b[0m\u001b[1;33m\u001b[0m\u001b[0m\n\u001b[0;32m    558\u001b[0m                         \u001b[1;32myield\u001b[0m \u001b[0mfuture\u001b[0m\u001b[1;33m.\u001b[0m\u001b[0mresult\u001b[0m\u001b[1;33m(\u001b[0m\u001b[0mend_time\u001b[0m \u001b[1;33m-\u001b[0m \u001b[0mtime\u001b[0m\u001b[1;33m.\u001b[0m\u001b[0mtime\u001b[0m\u001b[1;33m(\u001b[0m\u001b[1;33m)\u001b[0m\u001b[1;33m)\u001b[0m\u001b[1;33m\u001b[0m\u001b[0m\n",
      "\u001b[1;32m~\\Anaconda3\\lib\\concurrent\\futures\\_base.py\u001b[0m in \u001b[0;36mresult\u001b[1;34m(self, timeout)\u001b[0m\n\u001b[0;32m    396\u001b[0m                 \u001b[1;32mraise\u001b[0m \u001b[0mCancelledError\u001b[0m\u001b[1;33m(\u001b[0m\u001b[1;33m)\u001b[0m\u001b[1;33m\u001b[0m\u001b[0m\n\u001b[0;32m    397\u001b[0m             \u001b[1;32melif\u001b[0m \u001b[0mself\u001b[0m\u001b[1;33m.\u001b[0m\u001b[0m_state\u001b[0m \u001b[1;33m==\u001b[0m \u001b[0mFINISHED\u001b[0m\u001b[1;33m:\u001b[0m\u001b[1;33m\u001b[0m\u001b[0m\n\u001b[1;32m--> 398\u001b[1;33m                 \u001b[1;32mreturn\u001b[0m \u001b[0mself\u001b[0m\u001b[1;33m.\u001b[0m\u001b[0m__get_result\u001b[0m\u001b[1;33m(\u001b[0m\u001b[1;33m)\u001b[0m\u001b[1;33m\u001b[0m\u001b[0m\n\u001b[0m\u001b[0;32m    399\u001b[0m \u001b[1;33m\u001b[0m\u001b[0m\n\u001b[0;32m    400\u001b[0m             \u001b[0mself\u001b[0m\u001b[1;33m.\u001b[0m\u001b[0m_condition\u001b[0m\u001b[1;33m.\u001b[0m\u001b[0mwait\u001b[0m\u001b[1;33m(\u001b[0m\u001b[0mtimeout\u001b[0m\u001b[1;33m)\u001b[0m\u001b[1;33m\u001b[0m\u001b[0m\n",
      "\u001b[1;32m~\\Anaconda3\\lib\\concurrent\\futures\\_base.py\u001b[0m in \u001b[0;36m__get_result\u001b[1;34m(self)\u001b[0m\n\u001b[0;32m    355\u001b[0m     \u001b[1;32mdef\u001b[0m \u001b[0m__get_result\u001b[0m\u001b[1;33m(\u001b[0m\u001b[0mself\u001b[0m\u001b[1;33m)\u001b[0m\u001b[1;33m:\u001b[0m\u001b[1;33m\u001b[0m\u001b[0m\n\u001b[0;32m    356\u001b[0m         \u001b[1;32mif\u001b[0m \u001b[0mself\u001b[0m\u001b[1;33m.\u001b[0m\u001b[0m_exception\u001b[0m\u001b[1;33m:\u001b[0m\u001b[1;33m\u001b[0m\u001b[0m\n\u001b[1;32m--> 357\u001b[1;33m             \u001b[1;32mraise\u001b[0m \u001b[0mself\u001b[0m\u001b[1;33m.\u001b[0m\u001b[0m_exception\u001b[0m\u001b[1;33m\u001b[0m\u001b[0m\n\u001b[0m\u001b[0;32m    358\u001b[0m         \u001b[1;32melse\u001b[0m\u001b[1;33m:\u001b[0m\u001b[1;33m\u001b[0m\u001b[0m\n\u001b[0;32m    359\u001b[0m             \u001b[1;32mreturn\u001b[0m \u001b[0mself\u001b[0m\u001b[1;33m.\u001b[0m\u001b[0m_result\u001b[0m\u001b[1;33m\u001b[0m\u001b[0m\n",
      "\u001b[1;31mBrokenProcessPool\u001b[0m: A process in the process pool was terminated abruptly while the future was running or pending."
     ]
    }
   ],
   "source": [
    "list(ans)"
   ]
  },
  {
   "cell_type": "code",
   "execution_count": 107,
   "metadata": {},
   "outputs": [
    {
     "data": {
      "text/plain": [
       "array(<itertools.chain object at 0x00000229845AAE10>, dtype=object)"
      ]
     },
     "execution_count": 107,
     "metadata": {},
     "output_type": "execute_result"
    }
   ],
   "source": [
    "np.array(res)"
   ]
  },
  {
   "cell_type": "code",
   "execution_count": 101,
   "metadata": {},
   "outputs": [
    {
     "ename": "TypeError",
     "evalue": "'itertools.chain' object is not subscriptable",
     "output_type": "error",
     "traceback": [
      "\u001b[1;31m---------------------------------------------------------------------------\u001b[0m",
      "\u001b[1;31mTypeError\u001b[0m                                 Traceback (most recent call last)",
      "\u001b[1;32m<ipython-input-101-35cae1f19bb0>\u001b[0m in \u001b[0;36m<module>\u001b[1;34m()\u001b[0m\n\u001b[1;32m----> 1\u001b[1;33m \u001b[0mres\u001b[0m\u001b[1;33m[\u001b[0m\u001b[1;36m0\u001b[0m\u001b[1;33m]\u001b[0m\u001b[1;33m\u001b[0m\u001b[0m\n\u001b[0m",
      "\u001b[1;31mTypeError\u001b[0m: 'itertools.chain' object is not subscriptable"
     ]
    }
   ],
   "source": [
    "res[0]"
   ]
  },
  {
   "cell_type": "code",
   "execution_count": 93,
   "metadata": {},
   "outputs": [
    {
     "data": {
      "text/plain": [
       "array([[ 1.34076585e-01,  1.04537093e+00,  2.05589815e+00,\n",
       "         2.99943723e+00,  4.04761437e+00,  4.69769460e+00,\n",
       "         5.60505498e+00,  7.05607591e+00,  7.77191024e+00,\n",
       "         8.71665209e+00],\n",
       "       [ 1.16366979e-01,  1.16035357e+00,  2.15506664e+00,\n",
       "         3.05450196e+00,  4.07714385e+00,  4.79921455e+00,\n",
       "         5.61333283e+00,  7.13560166e+00,  7.81101110e+00,\n",
       "         8.60927995e+00],\n",
       "       [ 2.19169759e-01,  1.18619562e+00,  2.17481276e+00,\n",
       "         2.97081101e+00,  4.13286490e+00,  4.79737010e+00,\n",
       "         5.51423354e+00,  7.19349247e+00,  7.79304027e+00,\n",
       "         8.71408640e+00],\n",
       "       [ 1.44097499e-01,  1.13867347e+00,  2.27075533e+00,\n",
       "         2.97979551e+00,  4.23126218e+00,  4.83409187e+00,\n",
       "         5.41216414e+00,  7.13164126e+00,  7.73372375e+00,\n",
       "         8.72605425e+00],\n",
       "       [ 1.38920661e-01,  1.02997775e+00,  2.24374821e+00,\n",
       "         2.87104094e+00,  4.23853888e+00,  4.80531468e+00,\n",
       "         5.39233809e+00,  7.15150862e+00,  7.74775053e+00,\n",
       "         8.68777846e+00],\n",
       "       [ 1.55054618e-01,  9.59707250e-01,  2.18988693e+00,\n",
       "         2.78861106e+00,  4.22670071e+00,  4.82234264e+00,\n",
       "         5.53563503e+00,  7.09109248e+00,  7.70061221e+00,\n",
       "         8.71504894e+00],\n",
       "       [ 2.49906838e-01,  1.02233554e+00,  2.17081638e+00,\n",
       "         2.72395020e+00,  4.17302399e+00,  4.85499847e+00,\n",
       "         5.60076052e+00,  7.13197651e+00,  7.75556458e+00,\n",
       "         8.63415781e+00],\n",
       "       [ 2.13956436e-01,  9.00622537e-01,  2.07999209e+00,\n",
       "         2.79223990e+00,  4.16388053e+00,  4.82290202e+00,\n",
       "         5.67765841e+00,  7.28234654e+00,  7.75738912e+00,\n",
       "         8.81150628e+00],\n",
       "       [ 1.70546361e-01,  9.16215594e-01,  2.07416340e+00,\n",
       "         2.75065065e+00,  4.24988026e+00,  4.87579371e+00,\n",
       "         5.66448144e+00,  7.30491924e+00,  7.80820099e+00,\n",
       "         8.77629843e+00],\n",
       "       [ 1.87642386e-01,  9.75648886e-01,  2.09032059e+00,\n",
       "         2.76846087e+00,  4.32846991e+00,  4.85963581e+00,\n",
       "         5.69989696e+00,  7.34827583e+00,  7.90227235e+00,\n",
       "         8.71079812e+00],\n",
       "       [ 2.30562220e-01,  1.05672502e+00,  2.08078515e+00,\n",
       "         2.84766190e+00,  4.34349437e+00,  4.78745646e+00,\n",
       "         5.74064924e+00,  7.31606839e+00,  7.93576653e+00,\n",
       "         8.69614828e+00],\n",
       "       [ 2.76359224e-01,  1.11969187e+00,  2.03256041e+00,\n",
       "         2.87485933e+00,  4.38400486e+00,  4.64551380e+00,\n",
       "         5.73503499e+00,  7.24537704e+00,  7.89741039e+00,\n",
       "         8.72022329e+00],\n",
       "       [ 2.50071747e-01,  1.11841649e+00,  2.07210516e+00,\n",
       "         2.97696138e+00,  4.31547257e+00,  4.71266899e+00,\n",
       "         5.64326690e+00,  7.19726586e+00,  7.95715120e+00,\n",
       "         8.68420552e+00],\n",
       "       [ 1.21708392e-01,  1.12009935e+00,  2.00787673e+00,\n",
       "         2.95428453e+00,  4.22781390e+00,  4.67785870e+00,\n",
       "         5.57799575e+00,  7.21822111e+00,  7.95131652e+00,\n",
       "         8.71992747e+00],\n",
       "       [ 4.99089250e-02,  1.16967715e+00,  1.94593297e+00,\n",
       "         2.92005319e+00,  4.13820435e+00,  4.67963233e+00,\n",
       "         5.59807963e+00,  7.11720574e+00,  7.88189980e+00,\n",
       "         8.65666404e+00],\n",
       "       [ 4.99902327e-02,  1.18125574e+00,  1.91565058e+00,\n",
       "         2.84340842e+00,  4.09852447e+00,  4.73707008e+00,\n",
       "         5.68615106e+00,  7.11440891e+00,  7.86647612e+00,\n",
       "         8.68347121e+00],\n",
       "       [ 7.54764698e-03,  1.20019297e+00,  1.92586394e+00,\n",
       "         2.81108465e+00,  4.11497210e+00,  4.69745220e+00,\n",
       "         5.70177988e+00,  7.14405179e+00,  7.85593984e+00,\n",
       "         8.69480546e+00],\n",
       "       [ 1.35473992e-03,  1.19366626e+00,  2.00089946e+00,\n",
       "         2.81197362e+00,  4.16170847e+00,  4.75455182e+00,\n",
       "         5.67660268e+00,  7.13332425e+00,  7.82824415e+00,\n",
       "         8.80892912e+00],\n",
       "       [ 4.11750288e-02,  1.26135274e+00,  2.00880988e+00,\n",
       "         2.92499700e+00,  4.04853654e+00,  4.67911897e+00,\n",
       "         5.72903290e+00,  7.14357825e+00,  7.83928599e+00,\n",
       "         8.76720626e+00],\n",
       "       [ 6.23866285e-02,  1.29828658e+00,  1.99782650e+00,\n",
       "         2.77343751e+00,  4.07040368e+00,  4.70521484e+00,\n",
       "         5.74556383e+00,  7.13772564e+00,  7.79625761e+00,\n",
       "         8.72635957e+00],\n",
       "       [ 6.57948651e-02,  1.37790056e+00,  2.05160147e+00,\n",
       "         2.74725336e+00,  4.03106490e+00,  4.67844744e+00,\n",
       "         5.69048557e+00,  7.03231211e+00,  7.80216661e+00,\n",
       "         8.74937087e+00],\n",
       "       [ 8.82477512e-02,  1.32640811e+00,  2.06633408e+00,\n",
       "         2.73659819e+00,  3.94298842e+00,  4.69085007e+00,\n",
       "         5.63782253e+00,  6.97475895e+00,  7.74799971e+00,\n",
       "         8.77957922e+00],\n",
       "       [ 1.79700822e-02,  1.28231924e+00,  2.07591116e+00,\n",
       "         2.72774881e+00,  3.94148748e+00,  4.67705682e+00,\n",
       "         5.53086460e+00,  6.93260072e+00,  7.73925215e+00,\n",
       "         8.78991742e+00],\n",
       "       [ 4.10748184e-02,  1.21520182e+00,  2.07706104e+00,\n",
       "         2.77665785e+00,  3.93862009e+00,  4.73979858e+00,\n",
       "         5.45167359e+00,  6.89644137e+00,  7.79212600e+00,\n",
       "         8.84275979e+00],\n",
       "       [ 1.14594561e-01,  1.20718540e+00,  2.11699281e+00,\n",
       "         2.75966564e+00,  4.08086336e+00,  4.69417087e+00,\n",
       "         5.55180584e+00,  6.76677115e+00,  7.74431843e+00,\n",
       "         8.76794971e+00],\n",
       "       [ 1.00930345e-01,  1.16940675e+00,  2.09671250e+00,\n",
       "         2.72112680e+00,  4.04306543e+00,  4.72800533e+00,\n",
       "         5.53343726e+00,  6.79119745e+00,  7.68215177e+00,\n",
       "         8.71750040e+00],\n",
       "       [ 1.12359783e-01,  1.13081582e+00,  2.02779969e+00,\n",
       "         2.74225444e+00,  4.10506549e+00,  4.71135242e+00,\n",
       "         5.55709626e+00,  6.85997153e+00,  7.68034265e+00,\n",
       "         8.83072612e+00],\n",
       "       [ 3.41417319e-02,  1.18480668e+00,  2.17735593e+00,\n",
       "         2.75545847e+00,  4.14426954e+00,  4.75530618e+00,\n",
       "         5.61064456e+00,  6.83205078e+00,  7.69860091e+00,\n",
       "         8.85492780e+00],\n",
       "       [-5.62421880e-02,  1.21088690e+00,  2.11588665e+00,\n",
       "         2.85270698e+00,  4.08818164e+00,  4.71888333e+00,\n",
       "         5.57841884e+00,  6.81539766e+00,  7.72940634e+00,\n",
       "         8.69571229e+00],\n",
       "       [-2.38803343e-02,  1.20107641e+00,  2.20928043e+00,\n",
       "         2.92468583e+00,  4.07125359e+00,  4.78590866e+00,\n",
       "         5.59724709e+00,  6.79256282e+00,  7.79182162e+00,\n",
       "         8.65480229e+00],\n",
       "       [-1.08215349e-02,  1.20688214e+00,  2.16985531e+00,\n",
       "         2.90546939e+00,  4.15972850e+00,  4.72322706e+00,\n",
       "         5.60919667e+00,  6.82565165e+00,  7.75012944e+00,\n",
       "         8.62113363e+00],\n",
       "       [ 1.91954596e-02,  1.13591438e+00,  2.21493847e+00,\n",
       "         2.91128251e+00,  4.03439998e+00,  4.74167561e+00,\n",
       "         5.51434867e+00,  6.85243144e+00,  7.73866342e+00,\n",
       "         8.63818486e+00],\n",
       "       [ 1.40488446e-01,  1.13603875e+00,  2.25050902e+00,\n",
       "         2.85011570e+00,  3.94514209e+00,  4.74684932e+00,\n",
       "         5.55588858e+00,  6.87654954e+00,  7.69912704e+00,\n",
       "         8.67959202e+00],\n",
       "       [ 1.62355545e-01,  1.11285582e+00,  2.22541429e+00,\n",
       "         2.77986968e+00,  3.95271591e+00,  4.76119154e+00,\n",
       "         5.67016455e+00,  6.87136361e+00,  7.83421701e+00,\n",
       "         8.66709029e+00],\n",
       "       [ 1.16226710e-01,  1.10207515e+00,  2.20125608e+00,\n",
       "         2.76437940e+00,  3.89676756e+00,  4.81708502e+00,\n",
       "         5.64282576e+00,  6.77184899e+00,  7.84959502e+00,\n",
       "         8.63382370e+00],\n",
       "       [ 8.11851728e-02,  1.18756641e+00,  2.17691369e+00,\n",
       "         2.77387346e+00,  3.91434172e+00,  4.77276012e+00,\n",
       "         5.70081935e+00,  6.73436511e+00,  7.81850606e+00,\n",
       "         8.67434536e+00],\n",
       "       [ 1.16736966e-01,  1.17928751e+00,  2.12894127e+00,\n",
       "         2.80901981e+00,  4.01069204e+00,  4.81558774e+00,\n",
       "         5.66879104e+00,  6.88485986e+00,  7.79697996e+00,\n",
       "         8.70601106e+00],\n",
       "       [ 1.11843878e-01,  1.25357222e+00,  2.21104394e+00,\n",
       "         2.91355151e+00,  3.96098011e+00,  4.87106216e+00,\n",
       "         5.63366867e+00,  6.95317335e+00,  7.83779671e+00,\n",
       "         8.69779849e+00],\n",
       "       [ 9.79993271e-02,  1.27751267e+00,  2.16720617e+00,\n",
       "         2.93457584e+00,  3.95028906e+00,  4.84208782e+00,\n",
       "         5.67154981e+00,  6.98575829e+00,  7.78272234e+00,\n",
       "         8.68891696e+00],\n",
       "       [ 1.44546146e-01,  1.34839522e+00,  2.19124092e+00,\n",
       "         2.90011167e+00,  3.92141316e+00,  4.79067088e+00,\n",
       "         5.56285949e+00,  6.97968235e+00,  7.82605073e+00,\n",
       "         8.79468145e+00],\n",
       "       [ 1.91306017e-01,  1.26862593e+00,  2.14982794e+00,\n",
       "         2.92202254e+00,  4.00715696e+00,  4.64264744e+00,\n",
       "         5.53802926e+00,  6.92544150e+00,  7.82773730e+00,\n",
       "         8.76016356e+00],\n",
       "       [ 2.06816463e-01,  1.20760475e+00,  2.17775564e+00,\n",
       "         2.85185551e+00,  3.95487570e+00,  4.59359447e+00,\n",
       "         5.51319862e+00,  6.97985517e+00,  7.81074666e+00,\n",
       "         8.85041060e+00],\n",
       "       [ 1.47091802e-01,  1.20721278e+00,  2.18615481e+00,\n",
       "         2.91870854e+00,  3.99696195e+00,  4.69729193e+00,\n",
       "         5.56965210e+00,  7.03015605e+00,  7.88496239e+00,\n",
       "         8.84425937e+00],\n",
       "       [ 1.28183736e-01,  1.27248250e+00,  2.17774970e+00,\n",
       "         2.96591329e+00,  4.00991916e+00,  4.69989347e+00,\n",
       "         5.60635660e+00,  7.04521052e+00,  7.80991771e+00,\n",
       "         8.83394827e+00],\n",
       "       [ 1.21919462e-01,  1.26499232e+00,  2.16940239e+00,\n",
       "         2.84738076e+00,  4.07853988e+00,  4.71780779e+00,\n",
       "         5.59506715e+00,  7.05007144e+00,  7.75381627e+00,\n",
       "         8.83011918e+00],\n",
       "       [ 9.43585316e-02,  1.22255456e+00,  2.09552449e+00,\n",
       "         2.80069213e+00,  4.13510438e+00,  4.71590895e+00,\n",
       "         5.74857665e+00,  7.11844598e+00,  7.66611175e+00,\n",
       "         8.92434843e+00],\n",
       "       [ 8.87994656e-02,  1.18083708e+00,  2.04573239e+00,\n",
       "         2.86995781e+00,  4.13042671e+00,  4.71208982e+00,\n",
       "         5.81089251e+00,  7.07369032e+00,  7.71026932e+00,\n",
       "         8.96503084e+00],\n",
       "       [-1.67835464e-02,  1.14395619e+00,  2.06728472e+00,\n",
       "         2.89311020e+00,  4.14481565e+00,  4.66029711e+00,\n",
       "         5.80051479e+00,  7.01023537e+00,  7.82298954e+00,\n",
       "         8.83106931e+00],\n",
       "       [-4.28100502e-02,  1.16461303e+00,  2.02453903e+00,\n",
       "         2.94234945e+00,  4.13523606e+00,  4.67061854e+00,\n",
       "         5.76740458e+00,  7.09534999e+00,  7.89549868e+00,\n",
       "         8.76870471e+00],\n",
       "       [-6.58578860e-02,  1.13186053e+00,  1.88598701e+00,\n",
       "         2.94053110e+00,  4.14572507e+00,  4.64526409e+00,\n",
       "         5.73537773e+00,  7.06285358e+00,  7.84848522e+00,\n",
       "         8.85099010e+00],\n",
       "       [-8.89658038e-02,  1.07277896e+00,  1.94932047e+00,\n",
       "         2.91195873e+00,  4.10422121e+00,  4.79844391e+00,\n",
       "         5.65448704e+00,  7.08220763e+00,  7.98577087e+00,\n",
       "         8.89470564e+00],\n",
       "       [-1.28057265e-01,  1.06747856e+00,  1.97252161e+00,\n",
       "         2.98641313e+00,  4.01891178e+00,  4.75439682e+00,\n",
       "         5.75217460e+00,  7.07534086e+00,  7.98850361e+00,\n",
       "         8.74797459e+00],\n",
       "       [-2.30195168e-02,  1.13030863e+00,  2.04267836e+00,\n",
       "         3.01917754e+00,  3.95499675e+00,  4.68494500e+00,\n",
       "         5.71495768e+00,  6.98354852e+00,  7.88990053e+00,\n",
       "         8.77134522e+00],\n",
       "       [ 4.97610735e-02,  1.12663813e+00,  2.03885567e+00,\n",
       "         3.02205311e+00,  3.91897543e+00,  4.74727334e+00,\n",
       "         5.66432910e+00,  7.06176786e+00,  7.87325663e+00,\n",
       "         8.79379857e+00],\n",
       "       [ 1.11163716e-01,  1.12954075e+00,  1.96056087e+00,\n",
       "         3.00368579e+00,  3.89572814e+00,  4.68452546e+00,\n",
       "         5.67145485e+00,  6.97289368e+00,  7.89287595e+00,\n",
       "         8.87675997e+00],\n",
       "       [ 2.34924930e-02,  1.15528333e+00,  1.95322007e+00,\n",
       "         3.10190646e+00,  3.91160239e+00,  4.76471173e+00,\n",
       "         5.62950571e+00,  6.96316886e+00,  7.80325732e+00,\n",
       "         8.91951768e+00],\n",
       "       [-1.43593039e-02,  1.13620604e+00,  1.87951713e+00,\n",
       "         3.11412507e+00,  3.95606945e+00,  4.75794878e+00,\n",
       "         5.70588241e+00,  7.05640448e+00,  7.82527021e+00,\n",
       "         8.86128763e+00],\n",
       "       [ 7.08510167e-02,  1.15925166e+00,  1.83958550e+00,\n",
       "         3.06328204e+00,  3.95434408e+00,  4.76852275e+00,\n",
       "         5.75229553e+00,  7.04566828e+00,  7.85506544e+00,\n",
       "         8.88068660e+00],\n",
       "       [ 7.26045991e-02,  1.07605262e+00,  1.91796482e+00,\n",
       "         3.03032571e+00,  4.05197677e+00,  4.90138604e+00,\n",
       "         5.71067525e+00,  7.09566487e+00,  7.85894197e+00,\n",
       "         8.78539442e+00],\n",
       "       [ 1.34823181e-01,  1.15342507e+00,  1.92384365e+00,\n",
       "         3.00552317e+00,  4.07210371e+00,  4.92583271e+00,\n",
       "         5.66328466e+00,  7.04373987e+00,  7.84879405e+00,\n",
       "         8.73822990e+00],\n",
       "       [ 1.55240687e-01,  1.06934507e+00,  2.02511110e+00,\n",
       "         2.97852011e+00,  4.12509211e+00,  4.95215815e+00,\n",
       "         5.62673345e+00,  7.00392871e+00,  7.82699399e+00,\n",
       "         8.83051574e+00],\n",
       "       [ 1.76735477e-01,  1.11184560e+00,  2.03895415e+00,\n",
       "         2.89575298e+00,  4.25910520e+00,  4.85829955e+00,\n",
       "         5.64980373e+00,  6.90688195e+00,  7.73849093e+00,\n",
       "         8.76004090e+00],\n",
       "       [ 1.52834767e-01,  1.08920620e+00,  2.06557718e+00,\n",
       "         2.94185263e+00,  4.19998681e+00,  4.82109627e+00,\n",
       "         5.64048302e+00,  6.94638141e+00,  7.67578603e+00,\n",
       "         8.78739600e+00],\n",
       "       [ 1.39423593e-01,  1.05282439e+00,  2.02270439e+00,\n",
       "         3.04165465e+00,  4.11062017e+00,  4.72250942e+00,\n",
       "         5.59214395e+00,  6.95005669e+00,  7.64948553e+00,\n",
       "         8.79047720e+00],\n",
       "       [ 2.31482100e-02,  9.36897253e-01,  2.02263437e+00,\n",
       "         3.05322598e+00,  3.97231599e+00,  4.85068349e+00,\n",
       "         5.56525325e+00,  6.87862904e+00,  7.62689709e+00,\n",
       "         8.86583151e+00],\n",
       "       [ 3.32456608e-02,  9.92452457e-01,  2.02577980e+00,\n",
       "         3.07210144e+00,  3.91021929e+00,  4.84678009e+00,\n",
       "         5.63012339e+00,  6.93694093e+00,  7.63648262e+00,\n",
       "         8.86942396e+00],\n",
       "       [ 5.98830646e-02,  1.01809701e+00,  2.00196887e+00,\n",
       "         2.96152649e+00,  3.89703264e+00,  4.86869963e+00,\n",
       "         5.50164759e+00,  6.89972494e+00,  7.71535607e+00,\n",
       "         8.82189632e+00],\n",
       "       [ 1.74522235e-01,  9.52846242e-01,  1.99439433e+00,\n",
       "         2.96126581e+00,  3.89785553e+00,  4.94694349e+00,\n",
       "         5.54977714e+00,  6.93368928e+00,  7.78380919e+00,\n",
       "         8.85524885e+00],\n",
       "       [ 1.79184515e-01,  8.90660205e-01,  1.94480632e+00,\n",
       "         3.04074744e+00,  3.91219317e+00,  4.95615894e+00,\n",
       "         5.56602144e+00,  6.99653780e+00,  7.78020258e+00,\n",
       "         8.83473794e+00],\n",
       "       [ 1.93066062e-01,  8.67676688e-01,  1.95524372e+00,\n",
       "         3.12003500e+00,  3.91674868e+00,  4.80113866e+00,\n",
       "         5.60240590e+00,  7.05650895e+00,  7.73223301e+00,\n",
       "         8.75420584e+00],\n",
       "       [ 9.11147646e-02,  9.02207627e-01,  2.02578922e+00,\n",
       "         3.18369663e+00,  3.96813761e+00,  4.72776980e+00,\n",
       "         5.67183793e+00,  7.09267998e+00,  7.73978005e+00,\n",
       "         8.82054315e+00],\n",
       "       [ 1.05104450e-01,  8.68930984e-01,  2.04746188e+00,\n",
       "         3.07958940e+00,  3.96464739e+00,  4.72728672e+00,\n",
       "         5.72443998e+00,  7.06121345e+00,  7.79848376e+00,\n",
       "         8.85489578e+00],\n",
       "       [ 6.37237501e-02,  1.04588306e+00,  1.93358337e+00,\n",
       "         3.04368865e+00,  3.93936781e+00,  4.73147409e+00,\n",
       "         5.73467248e+00,  7.01316381e+00,  7.91870523e+00,\n",
       "         8.91460574e+00],\n",
       "       [ 1.31215682e-01,  1.07171293e+00,  2.00551720e+00,\n",
       "         2.98347465e+00,  3.90741861e+00,  4.77635427e+00,\n",
       "         5.77324535e+00,  7.00294722e+00,  7.87821687e+00,\n",
       "         8.87891469e+00],\n",
       "       [ 1.58558838e-01,  1.01419544e+00,  2.09381803e+00,\n",
       "         2.93097935e+00,  3.78513649e+00,  4.80439545e+00,\n",
       "         5.68322827e+00,  6.88920537e+00,  7.80890618e+00,\n",
       "         8.79384378e+00],\n",
       "       [ 2.75855008e-01,  1.01928695e+00,  2.08568634e+00,\n",
       "         2.79754272e+00,  3.88837179e+00,  4.80129623e+00,\n",
       "         5.75718711e+00,  6.93764122e+00,  7.79428532e+00,\n",
       "         8.85686446e+00],\n",
       "       [ 2.44783629e-01,  1.05674488e+00,  2.06061939e+00,\n",
       "         2.85303091e+00,  3.92655905e+00,  4.76050356e+00,\n",
       "         5.73685515e+00,  6.95477178e+00,  7.76312756e+00,\n",
       "         8.81201528e+00],\n",
       "       [ 2.60597900e-01,  8.97369213e-01,  2.00131329e+00,\n",
       "         2.76073071e+00,  3.99558722e+00,  4.70551679e+00,\n",
       "         5.72726500e+00,  6.84518674e+00,  7.73444575e+00,\n",
       "         8.85539889e+00],\n",
       "       [ 1.72133517e-01,  8.97552549e-01,  2.04298034e+00,\n",
       "         2.73413105e+00,  3.93458442e+00,  4.71547673e+00,\n",
       "         5.71410627e+00,  6.85807906e+00,  7.82584177e+00,\n",
       "         8.79463376e+00],\n",
       "       [ 1.93286605e-01,  8.17754934e-01,  2.12286944e+00,\n",
       "         2.82408350e+00,  4.04537289e+00,  4.74108581e+00,\n",
       "         5.65735431e+00,  6.77637908e+00,  7.82190750e+00,\n",
       "         8.79057027e+00],\n",
       "       [ 1.90745713e-01,  8.27593867e-01,  2.06537233e+00,\n",
       "         2.92716780e+00,  3.98893056e+00,  4.88769472e+00,\n",
       "         5.61144923e+00,  6.74867924e+00,  7.74283644e+00,\n",
       "         8.79928424e+00],\n",
       "       [ 9.57156575e-02,  8.24828572e-01,  2.06464064e+00,\n",
       "         2.96349495e+00,  4.02158299e+00,  4.83349222e+00,\n",
       "         5.68495882e+00,  6.70513452e+00,  7.85451659e+00,\n",
       "         8.81278193e+00],\n",
       "       [ 9.06694575e-02,  8.61523443e-01,  1.99695651e+00,\n",
       "         2.91806897e+00,  4.09549634e+00,  4.80804818e+00,\n",
       "         5.75856994e+00,  6.69311484e+00,  7.87107176e+00,\n",
       "         8.79535247e+00],\n",
       "       [ 7.54753566e-02,  8.26170267e-01,  2.02005063e+00,\n",
       "         2.85229964e+00,  4.08416936e+00,  4.78802542e+00,\n",
       "         5.76688405e+00,  6.78074413e+00,  7.80412000e+00,\n",
       "         8.77069112e+00],\n",
       "       [ 5.62552170e-02,  9.43468156e-01,  2.07839606e+00,\n",
       "         2.87548404e+00,  4.07825393e+00,  4.84196194e+00,\n",
       "         5.68370720e+00,  6.76398551e+00,  7.80875140e+00,\n",
       "         8.83113191e+00],\n",
       "       [ 1.81536133e-01,  1.01381847e+00,  2.06601526e+00,\n",
       "         2.87199091e+00,  4.02283970e+00,  4.81438991e+00,\n",
       "         5.70791021e+00,  6.79663813e+00,  7.90164088e+00,\n",
       "         8.81778422e+00],\n",
       "       [ 3.56057373e-01,  1.03042990e+00,  1.99029240e+00,\n",
       "         2.89705245e+00,  3.96885388e+00,  4.77294512e+00,\n",
       "         5.69970494e+00,  6.75140256e+00,  7.86287706e+00,\n",
       "         8.88112764e+00],\n",
       "       [ 2.93866255e-01,  1.01517631e+00,  2.03098099e+00,\n",
       "         2.87909705e+00,  4.04198234e+00,  4.75010121e+00,\n",
       "         5.77559712e+00,  6.79331507e+00,  7.80758230e+00,\n",
       "         8.85959380e+00],\n",
       "       [ 3.41524617e-01,  1.07333366e+00,  2.00117634e+00,\n",
       "         2.85921390e+00,  4.05945570e+00,  4.85600436e+00,\n",
       "         5.69129306e+00,  6.88030787e+00,  7.74215933e+00,\n",
       "         8.89053829e+00],\n",
       "       [ 3.54976468e-01,  1.08864728e+00,  2.02878554e+00,\n",
       "         2.88320313e+00,  4.03557662e+00,  4.84634131e+00,\n",
       "         5.68029189e+00,  6.87388368e+00,  7.84054783e+00,\n",
       "         8.96075395e+00],\n",
       "       [ 3.09635039e-01,  1.13063699e+00,  2.08473883e+00,\n",
       "         2.96024854e+00,  4.01596435e+00,  4.83057652e+00,\n",
       "         5.67265430e+00,  6.85047458e+00,  7.75379065e+00,\n",
       "         8.96267613e+00],\n",
       "       [ 3.12612537e-01,  1.12236319e+00,  2.07066320e+00,\n",
       "         3.01333254e+00,  4.04165638e+00,  4.79884318e+00,\n",
       "         5.66374986e+00,  6.89490755e+00,  7.82581984e+00,\n",
       "         8.84249402e+00],\n",
       "       [ 3.52346041e-01,  1.03787413e+00,  2.06455737e+00,\n",
       "         3.00609169e+00,  3.99145805e+00,  4.71753746e+00,\n",
       "         5.78718068e+00,  6.95255316e+00,  7.86708948e+00,\n",
       "         8.89307018e+00],\n",
       "       [ 3.81118898e-01,  1.00487368e+00,  2.07385077e+00,\n",
       "         3.02729642e+00,  4.00741994e+00,  4.76954058e+00,\n",
       "         5.81973752e+00,  6.88469151e+00,  7.91054998e+00,\n",
       "         8.89125888e+00],\n",
       "       [ 3.84304721e-01,  9.50397323e-01,  2.04130111e+00,\n",
       "         3.07205162e+00,  4.07600412e+00,  4.70084860e+00,\n",
       "         5.79688012e+00,  6.89609037e+00,  8.00836653e+00,\n",
       "         8.89133901e+00],\n",
       "       [ 3.96106512e-01,  1.01600579e+00,  2.12635887e+00,\n",
       "         3.07561974e+00,  4.12019132e+00,  4.71714396e+00,\n",
       "         5.76749268e+00,  6.97885154e+00,  7.91744996e+00,\n",
       "         8.86633072e+00],\n",
       "       [ 2.97205205e-01,  9.26564130e-01,  2.18353842e+00,\n",
       "         3.04737241e+00,  4.07589304e+00,  4.76202787e+00,\n",
       "         5.67559572e+00,  6.92933187e+00,  7.91940474e+00,\n",
       "         8.94585098e+00],\n",
       "       [ 3.38333424e-01,  9.70850904e-01,  2.07721940e+00,\n",
       "         3.09989309e+00,  4.09757578e+00,  4.64175717e+00,\n",
       "         5.63209549e+00,  6.95134656e+00,  7.93785188e+00,\n",
       "         8.98515649e+00],\n",
       "       [ 3.61532621e-01,  1.09644097e+00,  2.05536396e+00,\n",
       "         3.10077619e+00,  4.00993183e+00,  4.64178271e+00,\n",
       "         5.62342912e+00,  6.93098242e+00,  7.97040618e+00,\n",
       "         9.03387635e+00],\n",
       "       [ 3.11619200e-01,  1.11130600e+00,  2.04126986e+00,\n",
       "         3.00241381e+00,  4.06799116e+00,  4.65298260e+00,\n",
       "         5.61260583e+00,  6.95867656e+00,  7.99661653e+00,\n",
       "         8.97226612e+00]])"
      ]
     },
     "execution_count": 93,
     "metadata": {},
     "output_type": "execute_result"
    }
   ],
   "source": [
    "single_chain()"
   ]
  },
  {
   "cell_type": "code",
   "execution_count": 83,
   "metadata": {},
   "outputs": [
    {
     "data": {
      "text/plain": [
       "[]"
      ]
     },
     "execution_count": 83,
     "metadata": {},
     "output_type": "execute_result"
    }
   ],
   "source": [
    "sghmc_chains(grad_log_den_data_jit, grad_log_den_prior_jit, data, V_hat, eps, theta_0, C, heatup, epoches, batch_size, 2)"
   ]
  },
  {
   "cell_type": "markdown",
   "metadata": {},
   "source": [
    "# Mixture normal"
   ]
  },
  {
   "cell_type": "code",
   "execution_count": 4,
   "metadata": {
    "collapsed": true
   },
   "outputs": [],
   "source": [
    "mu = np.array([-3, 3]).reshape(2,1) # true value for mu\n",
    "n = 200 # number of observations\n",
    "y = np.array([np.random.normal(mu[0], 1, n),np.random.normal(mu[1], 1, n)]).flatten() # observations"
   ]
  },
  {
   "cell_type": "code",
   "execution_count": 5,
   "metadata": {},
   "outputs": [
    {
     "data": {
      "text/plain": [
       "(400,)"
      ]
     },
     "execution_count": 5,
     "metadata": {},
     "output_type": "execute_result"
    }
   ],
   "source": [
    "y.shape"
   ]
  },
  {
   "cell_type": "code",
   "execution_count": 30,
   "metadata": {
    "collapsed": true
   },
   "outputs": [],
   "source": [
    "def mn_glpdf(y,mu):\n",
    "    exp1=np.exp(-0.5*(y-mu[0])**2)\n",
    "    exp2=np.exp(-0.5*(y-mu[1])**2)\n",
    "    \n",
    "    v = np.c_[exp1*(y-mu[0]),exp2*(y-mu[1])]\n",
    "    return np.sum(v/(exp1+exp2),axis=0)\n",
    "\n",
    "def mn_glpr(mu):\n",
    "    return -(np.sum(mu)/100)"
   ]
  },
  {
   "cell_type": "code",
   "execution_count": 32,
   "metadata": {},
   "outputs": [
    {
     "data": {
      "text/plain": [
       "array([-27.97542765,  -3.84259246])"
      ]
     },
     "execution_count": 32,
     "metadata": {},
     "output_type": "execute_result"
    }
   ],
   "source": [
    "mn_glpdf(y[:,None],mu)"
   ]
  },
  {
   "cell_type": "code",
   "execution_count": 74,
   "metadata": {},
   "outputs": [],
   "source": []
  },
  {
   "cell_type": "code",
   "execution_count": 78,
   "metadata": {},
   "outputs": [
    {
     "name": "stderr",
     "output_type": "stream",
     "text": [
      "C:\\Users\\Senlo\\Anaconda3\\lib\\site-packages\\scipy\\stats\\stats.py:1713: FutureWarning: Using a non-tuple sequence for multidimensional indexing is deprecated; use `arr[tuple(seq)]` instead of `arr[seq]`. In the future this will be interpreted as an array index, `arr[np.array(seq)]`, which will result either in an error or a different result.\n",
      "  return np.add.reduce(sorted[indexer] * weights, axis=axis) / sumval\n"
     ]
    },
    {
     "data": {
      "image/png": "[encoded data removed]",
      "text/plain": [
       "<Figure size 432x288 with 1 Axes>"
      ]
     },
     "metadata": {},
     "output_type": "display_data"
    }
   ],
   "source": [
    "import matplotlib.pyplot as plt\n",
    "import seaborn as sns\n",
    "\n",
    "sim = sghmc(mn_glpdf, mn_glpr, y[:,None], V_hat = np.eye(2), eps = 0.01, \n",
    "            theta_0 = np.array([0,0]), C = np.eye(2), \n",
    "            heatup = 100, epoches = 2000, batch_size = 80)\n",
    "\n",
    "kdeplt2 = sns.kdeplot(sim[:,0],sim[:,1])  \n",
    "plt.show()"
   ]
  },
  {
   "cell_type": "code",
   "execution_count": 41,
   "metadata": {},
   "outputs": [
    {
     "data": {
      "text/plain": [
       "2.6690826186731313"
      ]
     },
     "execution_count": 41,
     "metadata": {},
     "output_type": "execute_result"
    }
   ],
   "source": [
    "np.min(sim[:,0])"
   ]
  },
  {
   "cell_type": "code",
   "execution_count": 43,
   "metadata": {},
   "outputs": [
    {
     "data": {
      "image/png": "[encoded data removed]",
      "text/plain": [
       "<Figure size 432x288 with 1 Axes>"
      ]
     },
     "metadata": {},
     "output_type": "display_data"
    }
   ],
   "source": [
    "plt.plot(y)\n",
    "plt.show()"
   ]
  }
 ],
 "metadata": {
  "kernelspec": {
   "display_name": "Python 3",
   "language": "python",
   "name": "python3"
  },
  "language_info": {
   "codemirror_mode": {
    "name": "ipython",
    "version": 3
   },
   "file_extension": ".py",
   "mimetype": "text/x-python",
   "name": "python",
   "nbconvert_exporter": "python",
   "pygments_lexer": "ipython3",
   "version": "3.6.2"
  }
 },
 "nbformat": 4,
 "nbformat_minor": 2
}
