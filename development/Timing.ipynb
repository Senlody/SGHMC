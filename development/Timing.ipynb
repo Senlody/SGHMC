{
 "cells": [
  {
   "cell_type": "code",
   "execution_count": 1,
   "metadata": {},
   "outputs": [],
   "source": [
    "import numpy as np\n",
    "import random\n",
    "from scipy import linalg as la"
   ]
  },
  {
   "cell_type": "code",
   "execution_count": 2,
   "metadata": {},
   "outputs": [],
   "source": [
    "from matplotlib import pyplot as plt\n",
    "import matplotlib.ticker as mticker "
   ]
  },
  {
   "cell_type": "code",
   "execution_count": 3,
   "metadata": {},
   "outputs": [],
   "source": [
    "from sghmc.module import sghmc,sghmc_chains"
   ]
  },
  {
   "cell_type": "markdown",
   "metadata": {},
   "source": [
    "# CPP partwise recode version"
   ]
  },
  {
   "cell_type": "code",
   "execution_count": 4,
   "metadata": {},
   "outputs": [
    {
     "name": "stdout",
     "output_type": "stream",
     "text": [
      "Overwriting cppfuncs.cpp\n"
     ]
    }
   ],
   "source": [
    "%%file cppfuncs.cpp\n",
    "<%\n",
    "cfg['include_dirs'] = ['eigen']\n",
    "setup_pybind11(cfg)\n",
    "%>\n",
    "#include <pybind11/pybind11.h>\n",
    "#include <pybind11/stl.h>\n",
    "#include <pybind11/eigen.h>\n",
    "#include <vector>\n",
    "#include <random>\n",
    "#include <Eigen/Dense>\n",
    "#include <functional>\n",
    "\n",
    "namespace py = pybind11;\n",
    "using std::default_random_engine;\n",
    "using std::normal_distribution;\n",
    "using std::bind;\n",
    "using namespace Eigen;\n",
    "    \n",
    "//#@jit('double[:](double[:],double[:],double,double[:,:],double[:,:],int32)')\n",
    "//#def update_r(r,gU,eps,fric,sqrt_noise,p):\n",
    "//#    return r - eps*gU - fric@r + sqrt_noise@np.random.normal(size=(p))\n",
    "\n",
    "default_random_engine re{};\n",
    "normal_distribution<double> norm(0,1);\n",
    "auto rnorm = bind(norm, re);\n",
    "\n",
    "VectorXd update_r(VectorXd r, VectorXd gU,double eps,MatrixXd fric,MatrixXd sqrt_noise){\n",
    "    int p = r.rows();\n",
    "    VectorXd noise = VectorXd::Zero(p).unaryExpr([](double x){ return rnorm();});\n",
    "    return r.array() - eps*gU.array() - (fric*r).array() + (sqrt_noise*noise).array();\n",
    "}\n",
    "\n",
    "PYBIND11_MODULE(cppfuncs, m) {\n",
    "    m.def(\"update_r\", &update_r);\n",
    "}"
   ]
  },
  {
   "cell_type": "code",
   "execution_count": 5,
   "metadata": {},
   "outputs": [],
   "source": [
    "import numpy as np\n",
    "from scipy import linalg as la\n",
    "import cppimport\n",
    "cppfuncs = cppimport.imp(\"cppfuncs\")\n",
    "\n",
    "def sghmc_cpp(grad_log_den_data, grad_log_den_prior, data, V_hat, eps, theta_0, C, heatup, epoches, batch_size, Minv = None):\n",
    "    '''\n",
    "    Implementation of Stochastic Gradient Hamiltonian Monte Carlo.\n",
    "    (See details in Chen et al., 2014)\n",
    "    \n",
    "    Dimensions in sampling procdure:\n",
    "        p: dimension of parameters(theta)\n",
    "        n: number of observed data.\n",
    "        m: dimension of data.\n",
    "    \n",
    "    INPUT:            \n",
    "        grad_log_den_data: function with parameters (data,theta)\n",
    "            to compute $\\nabla log(p(data|theta))$ (gradient with respect to theta) of a set of data.\n",
    "            \n",
    "        grad_log_den_prior: function with parameter (theta)\n",
    "            to compute $\\nabla log(p(theta))$.\n",
    "            \n",
    "        data: np.array with shape (n,m)\n",
    "            representing observed data \n",
    "            \n",
    "        V_hat: np.array with shape (p,p)\n",
    "            a matrix of estimated Fisher Information \n",
    "            \n",
    "        eps: float or double\n",
    "            learning rate\n",
    "            \n",
    "        theta_0: np.array with shape (p,)\n",
    "            initial point of sampling.\n",
    "            \n",
    "        C: np.array with shape (p,p)\n",
    "            a matrix representing friction, see paper for details. \n",
    "            C-0.5*eps*V_hat must be positive definite.\n",
    "            \n",
    "        heatup: int\n",
    "            iteration to dump before storing sampling points.\n",
    "            \n",
    "        epoches: int\n",
    "            iterations to run. Must be greater than heatup.\n",
    "        \n",
    "        batch_size: int\n",
    "            size of a minibatch in an iteration, hundreds recommended\n",
    "            \n",
    "        Minv: np.array with shape (p,p)\n",
    "            if default(NULL), will be identical. (See paper for details)\n",
    "            \n",
    "    OUT:\n",
    "        sample: np.array with shape (epoches - heatup, p)\n",
    "            sampled posterior thetas.\n",
    "    '''\n",
    "    \n",
    "    def gradU(grad_log_den_data, grad_log_den_prior, batch, theta, n):\n",
    "        '''\n",
    "        inner function to compute $\\nabla \\tilde{U}$ defined in paper.\n",
    "        '''\n",
    "        return(-(n*grad_log_den_data(batch,theta)/batch.shape[0]+grad_log_den_prior(theta)))\n",
    "\n",
    "    n,m = data.shape\n",
    "    p = theta_0.shape[0]\n",
    "    \n",
    "    if(Minv is None):\n",
    "        sqrtM = np.eye(p)\n",
    "        prer = eps\n",
    "        fric = eps*C\n",
    "    else:\n",
    "        sqrtM = la.sqrtm(la.inv(Minv))\n",
    "        prer = eps*Minv\n",
    "        fric = eps*C@Minv\n",
    "\n",
    "    sqrt_noise = la.sqrtm(2*(C-0.5*eps*V_hat)*eps)\n",
    "    \n",
    "    samples = np.zeros((epoches - heatup, p))\n",
    "    batches = np.int(np.ceil(n/batch_size))\n",
    "    \n",
    "    theta = theta_0\n",
    "    for t in range(epoches):\n",
    "        if(Minv is None):\n",
    "            r = np.random.normal(size=(p))\n",
    "        else:\n",
    "            r = sqrtM@np.random.normal(size=(p))\n",
    "        \n",
    "        split = np.split(data,batches)\n",
    "        for i in range(batches):\n",
    "            batch = split[i]\n",
    "            theta = theta + (prer*r if Minv is None else prer@r)\n",
    "            gU = gradU(grad_log_den_data,grad_log_den_prior,batch,theta,n)\n",
    "            r = cppfuncs.update_r(r,gU,eps,fric,sqrt_noise)\n",
    "        theta = theta + (prer*r if Minv is None else prer@r)\n",
    "        \n",
    "        if(t>=heatup):\n",
    "            samples[t-heatup] = theta\n",
    "    \n",
    "    return(samples)\n"
   ]
  },
  {
   "cell_type": "markdown",
   "metadata": {},
   "source": [
    "# timing"
   ]
  },
  {
   "cell_type": "markdown",
   "metadata": {},
   "source": [
    "# timing for basic, basic with numba gradient function, cpp version"
   ]
  },
  {
   "cell_type": "code",
   "execution_count": 6,
   "metadata": {},
   "outputs": [],
   "source": [
    "import numba\n",
    "from numba import jit"
   ]
  },
  {
   "cell_type": "code",
   "execution_count": 7,
   "metadata": {},
   "outputs": [],
   "source": [
    "def grad_log_den_data(data,theta):\n",
    "    return(np.sum(data-theta,axis=0))\n",
    "\n",
    "def grad_log_den_prior(theta):\n",
    "    return(-theta)\n",
    "\n",
    "@jit('double[:](double[:,:],double[:])')\n",
    "def grad_log_den_data_jit(data,theta):\n",
    "    return(np.sum(data-theta,axis=0))\n",
    "\n",
    "@jit('double[:](double[:])')\n",
    "def grad_log_den_prior_jit(theta):\n",
    "    return(-theta)"
   ]
  },
  {
   "cell_type": "code",
   "execution_count": 8,
   "metadata": {},
   "outputs": [],
   "source": [
    "dnorm=10\n",
    "dsize=10000\n",
    "data = np.array(list(range(dnorm)))+2*np.random.normal(size=(dsize,dnorm))\n",
    "V_hat=np.eye(dnorm)\n",
    "eps=0.01\n",
    "theta_0=np.zeros(dnorm)\n",
    "C=np.eye(dnorm)\n",
    "heatup=100\n",
    "epoches=200\n",
    "batch_size=500"
   ]
  },
  {
   "cell_type": "code",
   "execution_count": 9,
   "metadata": {},
   "outputs": [
    {
     "name": "stdout",
     "output_type": "stream",
     "text": [
      "206 ms ± 1.21 ms per loop (mean ± std. dev. of 7 runs, 1 loop each)\n",
      "204 ms ± 2.01 ms per loop (mean ± std. dev. of 7 runs, 1 loop each)\n",
      "177 ms ± 574 µs per loop (mean ± std. dev. of 7 runs, 10 loops each)\n"
     ]
    }
   ],
   "source": [
    "%timeit sghmc(grad_log_den_data, grad_log_den_prior, data, V_hat, eps, theta_0, C, heatup, epoches, batch_size, Minv = None)\n",
    "%timeit sghmc(grad_log_den_data_jit, grad_log_den_prior_jit, data, V_hat, eps, theta_0, C, heatup, epoches, batch_size, Minv = None)\n",
    "%timeit sghmc_cpp(grad_log_den_data_jit, grad_log_den_prior_jit, data, V_hat, eps, theta_0, C, heatup, epoches, batch_size, Minv = None)"
   ]
  },
  {
   "cell_type": "code",
   "execution_count": 10,
   "metadata": {},
   "outputs": [],
   "source": [
    "dnorm=100\n",
    "dsize=10000\n",
    "data = np.array(list(range(dnorm)))+2*np.random.normal(size=(dsize,dnorm))\n",
    "V_hat=np.eye(dnorm)\n",
    "eps=0.01\n",
    "theta_0=np.zeros(dnorm)\n",
    "C=np.eye(dnorm)\n",
    "heatup=100\n",
    "epoches=200\n",
    "batch_size=500"
   ]
  },
  {
   "cell_type": "code",
   "execution_count": 11,
   "metadata": {
    "scrolled": true
   },
   "outputs": [
    {
     "name": "stdout",
     "output_type": "stream",
     "text": [
      "568 ms ± 21.3 ms per loop (mean ± std. dev. of 7 runs, 1 loop each)\n",
      "467 ms ± 16.3 ms per loop (mean ± std. dev. of 7 runs, 1 loop each)\n",
      "493 ms ± 2.5 ms per loop (mean ± std. dev. of 7 runs, 1 loop each)\n"
     ]
    }
   ],
   "source": [
    "%timeit sghmc(grad_log_den_data, grad_log_den_prior, data, V_hat, eps, theta_0, C, heatup, epoches, batch_size, Minv = None)\n",
    "%timeit sghmc(grad_log_den_data_jit, grad_log_den_prior_jit, data, V_hat, eps, theta_0, C, heatup, epoches, batch_size, Minv = None)\n",
    "%timeit sghmc_cpp(grad_log_den_data_jit, grad_log_den_prior_jit, data, V_hat, eps, theta_0, C, heatup, epoches, batch_size, Minv = None)"
   ]
  },
  {
   "cell_type": "code",
   "execution_count": 12,
   "metadata": {},
   "outputs": [],
   "source": [
    "dnorm=1000\n",
    "dsize=10000\n",
    "data = np.array(list(range(dnorm)))+2*np.random.normal(size=(dsize,dnorm))\n",
    "V_hat=np.eye(dnorm)\n",
    "eps=0.01\n",
    "theta_0=np.zeros(dnorm)\n",
    "C=np.eye(dnorm)\n",
    "heatup=100\n",
    "epoches=200\n",
    "batch_size=500"
   ]
  },
  {
   "cell_type": "code",
   "execution_count": 13,
   "metadata": {},
   "outputs": [
    {
     "name": "stdout",
     "output_type": "stream",
     "text": [
      "5.08 s ± 89.7 ms per loop (mean ± std. dev. of 7 runs, 1 loop each)\n",
      "3.96 s ± 20.3 ms per loop (mean ± std. dev. of 7 runs, 1 loop each)\n",
      "20.1 s ± 308 ms per loop (mean ± std. dev. of 7 runs, 1 loop each)\n"
     ]
    }
   ],
   "source": [
    "%timeit sghmc(grad_log_den_data, grad_log_den_prior, data, V_hat, eps, theta_0, C, heatup, epoches, batch_size, Minv = None)\n",
    "%timeit sghmc(grad_log_den_data_jit, grad_log_den_prior_jit, data, V_hat, eps, theta_0, C, heatup, epoches, batch_size, Minv = None)\n",
    "%timeit sghmc_cpp(grad_log_den_data_jit, grad_log_den_prior_jit, data, V_hat, eps, theta_0, C, heatup, epoches, batch_size, Minv = None)"
   ]
  },
  {
   "cell_type": "markdown",
   "metadata": {},
   "source": [
    "## timing for multi-process"
   ]
  },
  {
   "cell_type": "markdown",
   "metadata": {},
   "source": [
    "### dnorm=10, dsize=10000"
   ]
  },
  {
   "cell_type": "code",
   "execution_count": 14,
   "metadata": {},
   "outputs": [],
   "source": [
    "dnorm=10\n",
    "dsize=10000\n",
    "data = np.array(list(range(dnorm)))+2*np.random.normal(size=(dsize,dnorm))\n",
    "V_hat=np.eye(dnorm)\n",
    "eps=0.01\n",
    "theta_0=np.zeros(dnorm)\n",
    "C=np.eye(dnorm)\n",
    "heatup=100\n",
    "epoches=200\n",
    "batch_size=500"
   ]
  },
  {
   "cell_type": "code",
   "execution_count": 15,
   "metadata": {},
   "outputs": [],
   "source": [
    "import timeit\n",
    "chainNums=[1,3,5,10,15,20,25,30]\n",
    "avg_time=[]\n",
    "vardict = {'sghmc_chains':sghmc_chains,\n",
    "           'sghmc':sghmc,\n",
    "         'grad_log_den_data_jit':grad_log_den_data_jit,\n",
    "        'grad_log_den_prior_jit':grad_log_den_prior_jit,\n",
    "        'data':data,\n",
    "        'V_hat':V_hat,\n",
    "        'eps':eps,\n",
    "        'theta_0':theta_0,\n",
    "        'C':C,\n",
    "        'heatup':heatup,\n",
    "        'epoches':epoches,\n",
    "        'batch_size':batch_size}\n",
    "for n in chainNums:\n",
    "    s = 'sghmc_chains(grad_log_den_data_jit, grad_log_den_prior_jit, data, V_hat, eps, theta_0, C, heatup, epoches, batch_size, '+str(n)+')'\n",
    "    t = timeit.timeit(s,number=1,globals=vardict)\n",
    "    avg_time.append(t/n)\n",
    "    \n",
    "single_time = timeit.timeit('sghmc(grad_log_den_data_jit, grad_log_den_prior_jit, data, V_hat, eps, theta_0, C, heatup, epoches, batch_size)',number=1,globals=vardict)"
   ]
  },
  {
   "cell_type": "code",
   "execution_count": 16,
   "metadata": {},
   "outputs": [
    {
     "data": {
      "image/png": "[encoded data removed]",
      "text/plain": [
       "<Figure size 432x288 with 1 Axes>"
      ]
     },
     "metadata": {},
     "output_type": "display_data"
    }
   ],
   "source": [
    "plt.plot(chainNums,np.array(avg_time)*1000,label='chain average time')\n",
    "plt.plot([0,30],[single_time*1000,single_time*1000],label='single chain time')\n",
    "plt.legend()\n",
    "plt.gca().yaxis.set_major_formatter(mticker.FormatStrFormatter('%d ms'))\n",
    "plt.savefig('mpt1.png')"
   ]
  },
  {
   "cell_type": "markdown",
   "metadata": {},
   "source": [
    "### dnorm=100, dsize=10000"
   ]
  },
  {
   "cell_type": "code",
   "execution_count": 17,
   "metadata": {},
   "outputs": [],
   "source": [
    "dnorm=100\n",
    "dsize=10000\n",
    "data = np.array(list(range(dnorm)))+2*np.random.normal(size=(dsize,dnorm))\n",
    "V_hat=np.eye(dnorm)\n",
    "eps=0.01\n",
    "theta_0=np.zeros(dnorm)\n",
    "C=np.eye(dnorm)\n",
    "heatup=100\n",
    "epoches=200\n",
    "batch_size=500"
   ]
  },
  {
   "cell_type": "code",
   "execution_count": 18,
   "metadata": {},
   "outputs": [],
   "source": [
    "import timeit\n",
    "chainNums=[1,3,5,10,15,20,25,30]\n",
    "avg_time=[]\n",
    "vardict = {'sghmc_chains':sghmc_chains,\n",
    "           'sghmc':sghmc,\n",
    "         'grad_log_den_data_jit':grad_log_den_data_jit,\n",
    "        'grad_log_den_prior_jit':grad_log_den_prior_jit,\n",
    "        'data':data,\n",
    "        'V_hat':V_hat,\n",
    "        'eps':eps,\n",
    "        'theta_0':theta_0,\n",
    "        'C':C,\n",
    "        'heatup':heatup,\n",
    "        'epoches':epoches,\n",
    "        'batch_size':batch_size}\n",
    "for n in chainNums:\n",
    "    s = 'sghmc_chains(grad_log_den_data_jit, grad_log_den_prior_jit, data, V_hat, eps, theta_0, C, heatup, epoches, batch_size, '+str(n)+')'\n",
    "    t = timeit.timeit(s,number=1,globals=vardict)\n",
    "    avg_time.append(t/n)\n",
    "    \n",
    "single_time = timeit.timeit('sghmc(grad_log_den_data_jit, grad_log_den_prior_jit, data, V_hat, eps, theta_0, C, heatup, epoches, batch_size)',number=1,globals=vardict)"
   ]
  },
  {
   "cell_type": "code",
   "execution_count": 22,
   "metadata": {
    "scrolled": true
   },
   "outputs": [
    {
     "data": {
      "image/png": "[encoded data removed]",
      "text/plain": [
       "<Figure size 432x288 with 1 Axes>"
      ]
     },
     "metadata": {},
     "output_type": "display_data"
    }
   ],
   "source": [
    "plt.plot(chainNums,np.array(avg_time)*1000,label='sghmc_chains average time')\n",
    "plt.plot([0,30],[single_time*1000,single_time*1000],label='sghmc time')\n",
    "plt.legend(loc='best')\n",
    "plt.gca().yaxis.set_major_formatter(mticker.FormatStrFormatter('%d ms'))\n",
    "plt.savefig('mpt2.png')"
   ]
  }
 ],
 "metadata": {
  "kernelspec": {
   "display_name": "Python 3",
   "language": "python",
   "name": "python3"
  },
  "language_info": {
   "codemirror_mode": {
    "name": "ipython",
    "version": 3
   },
   "file_extension": ".py",
   "mimetype": "text/x-python",
   "name": "python",
   "nbconvert_exporter": "python",
   "pygments_lexer": "ipython3",
   "version": "3.6.5"
  }
 },
 "nbformat": 4,
 "nbformat_minor": 2
}
